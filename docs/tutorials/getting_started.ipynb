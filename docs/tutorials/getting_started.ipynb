{
 "cells": [
  {
   "cell_type": "markdown",
   "metadata": {},
   "source": [
    "# Getting started"
   ]
  },
  {
   "cell_type": "markdown",
   "metadata": {},
   "source": [
    "In scikit-network, a graph is represented by its [adjacency matrix](https://en.wikipedia.org/wiki/Adjacency_matrix) (or biadjacency matrix for a bipartite graph) in the [Compressed Sparse Row](https://docs.scipy.org/doc/scipy/reference/generated/scipy.sparse.csr_matrix.html) format of SciPy.\n",
    "\n",
    "In this tutorial, we present a few methods to instantiate a graph in this format."
   ]
  },
  {
   "cell_type": "code",
   "execution_count": 77,
   "metadata": {
    "jupyter": {
     "outputs_hidden": false
    },
    "pycharm": {
     "name": "#%%\n"
    }
   },
   "outputs": [],
   "source": [
    "from IPython.display import SVG\n",
    "\n",
    "import numpy as np\n",
    "from scipy import sparse\n",
    "import pandas as pd\n",
    "\n",
    "from sknetwork.utils import edgelist2adjacency, edgelist2biadjacency\n",
    "from sknetwork.data import convert_edge_list, load_edge_list\n",
    "from sknetwork.visualization import svg_graph, svg_digraph, svg_bigraph"
   ]
  },
  {
   "cell_type": "markdown",
   "metadata": {},
   "source": [
    "## From a NumPy array\n",
    "For small graphs, you can instantiate the adjacency matrix as a dense NumPy array and convert it into a sparse matrix in CSR format."
   ]
  },
  {
   "cell_type": "code",
   "execution_count": 2,
   "metadata": {
    "jupyter": {
     "outputs_hidden": false
    },
    "pycharm": {
     "name": "#%%\n"
    }
   },
   "outputs": [
    {
     "data": {
      "image/svg+xml": [
       "<svg xmlns=\"http://www.w3.org/2000/svg\" width=\"440\" height=\"340\"><path stroke-width=\"1\" stroke=\"black\" d=\"M 20 106 137 20\"/><path stroke-width=\"1\" stroke=\"black\" d=\"M 182 206 333 188\"/><path stroke-width=\"1\" stroke=\"black\" d=\"M 182 206 20 106\"/><path stroke-width=\"1\" stroke=\"black\" d=\"M 182 206 251 320\"/><path stroke-width=\"1\" stroke=\"black\" d=\"M 182 206 393 290\"/><path stroke-width=\"1\" stroke=\"black\" d=\"M 182 206 62 218\"/><path stroke-width=\"1\" stroke=\"black\" d=\"M 137 20 182 206\"/><path stroke-width=\"1\" stroke=\"black\" d=\"M 137 20 310 29\"/><path stroke-width=\"1\" stroke=\"black\" d=\"M 251 320 333 188\"/><path stroke-width=\"1\" stroke=\"black\" d=\"M 251 320 248 154\"/><path stroke-width=\"1\" stroke=\"black\" d=\"M 248 154 420 130\"/><path stroke-width=\"1\" stroke=\"black\" d=\"M 310 29 333 188\"/><path stroke-width=\"1\" stroke=\"black\" d=\"M 310 29 137 20\"/><path stroke-width=\"1\" stroke=\"black\" d=\"M 310 29 248 154\"/><path stroke-width=\"1\" stroke=\"black\" d=\"M 420 130 333 188\"/><path stroke-width=\"1\" stroke=\"black\" d=\"M 420 130 393 290\"/><path stroke-width=\"1\" stroke=\"black\" d=\"M 420 130 310 29\"/><path stroke-width=\"1\" stroke=\"black\" d=\"M 62 218 20 106\"/><path stroke-width=\"1\" stroke=\"black\" d=\"M 62 218 248 154\"/><circle cx=\"333\" cy=\"188\" r=\"7.0\" style=\"fill:gray;stroke:black;stroke-width:1.0\"/><circle cx=\"20\" cy=\"106\" r=\"7.0\" style=\"fill:gray;stroke:black;stroke-width:1.0\"/><circle cx=\"182\" cy=\"206\" r=\"7.0\" style=\"fill:gray;stroke:black;stroke-width:1.0\"/><circle cx=\"137\" cy=\"20\" r=\"7.0\" style=\"fill:gray;stroke:black;stroke-width:1.0\"/><circle cx=\"251\" cy=\"320\" r=\"7.0\" style=\"fill:gray;stroke:black;stroke-width:1.0\"/><circle cx=\"393\" cy=\"290\" r=\"7.0\" style=\"fill:gray;stroke:black;stroke-width:1.0\"/><circle cx=\"248\" cy=\"154\" r=\"7.0\" style=\"fill:gray;stroke:black;stroke-width:1.0\"/><circle cx=\"310\" cy=\"29\" r=\"7.0\" style=\"fill:gray;stroke:black;stroke-width:1.0\"/><circle cx=\"420\" cy=\"130\" r=\"7.0\" style=\"fill:gray;stroke:black;stroke-width:1.0\"/><circle cx=\"62\" cy=\"218\" r=\"7.0\" style=\"fill:gray;stroke:black;stroke-width:1.0\"/></svg>"
      ],
      "text/plain": [
       "<IPython.core.display.SVG object>"
      ]
     },
     "execution_count": 2,
     "metadata": {},
     "output_type": "execute_result"
    }
   ],
   "source": [
    "adjacency = np.array([[0, 1, 1, 0], [1, 0, 1, 1], [1, 1, 0, 0], [0, 1, 0, 0]])\n",
    "adjacency = sparse.csr_matrix(adjacency)\n",
    "\n",
    "image = svg_graph(adjacency)\n",
    "SVG(image)"
   ]
  },
  {
   "cell_type": "markdown",
   "metadata": {},
   "source": [
    "## From an edge list\n",
    "Another natural way to build a graph is from a list of edges."
   ]
  },
  {
   "cell_type": "code",
   "execution_count": 3,
   "metadata": {
    "jupyter": {
     "outputs_hidden": false
    },
    "pycharm": {
     "name": "#%%\n"
    }
   },
   "outputs": [
    {
     "data": {
      "image/svg+xml": [
       "<svg xmlns=\"http://www.w3.org/2000/svg\" width=\"440\" height=\"340\"><defs><marker id=\"arrow\" markerWidth=\"10\" markerHeight=\"10\" refX=\"9\" refY=\"3\" orient=\"auto\"><path d=\"M0,0 L0,6 L9,3 z\" fill=\"black\"/></marker></defs><path stroke-width=\"1\" stroke=\"black\" d=\"M 420 174 194 317\" marker-end=\"url(#arrow)\"/><path stroke-width=\"1\" stroke=\"black\" d=\"M 420 174 26 164\" marker-end=\"url(#arrow)\"/><path stroke-width=\"1\" stroke=\"black\" d=\"M 189 320 25 168\" marker-end=\"url(#arrow)\"/><path stroke-width=\"1\" stroke=\"black\" d=\"M 20 164 245 23\" marker-end=\"url(#arrow)\"/><path stroke-width=\"1\" stroke=\"black\" d=\"M 250 20 415 170\" marker-end=\"url(#arrow)\"/><circle cx=\"420\" cy=\"174\" r=\"7.0\" style=\"fill:gray;stroke:black;stroke-width:1.0\"/><circle cx=\"189\" cy=\"320\" r=\"7.0\" style=\"fill:gray;stroke:black;stroke-width:1.0\"/><circle cx=\"20\" cy=\"164\" r=\"7.0\" style=\"fill:gray;stroke:black;stroke-width:1.0\"/><circle cx=\"250\" cy=\"20\" r=\"7.0\" style=\"fill:gray;stroke:black;stroke-width:1.0\"/></svg>"
      ],
      "text/plain": [
       "<IPython.core.display.SVG object>"
      ]
     },
     "execution_count": 3,
     "metadata": {},
     "output_type": "execute_result"
    }
   ],
   "source": [
    "edge_list = [(0, 1), (1, 2), (2, 3), (3, 0), (0, 2)]\n",
    "adjacency = edgelist2adjacency(edge_list)\n",
    "\n",
    "image = svg_digraph(adjacency)\n",
    "SVG(image)"
   ]
  },
  {
   "cell_type": "markdown",
   "metadata": {},
   "source": [
    "By default, the graph is treated as directed, but you can easily make it undirected."
   ]
  },
  {
   "cell_type": "code",
   "execution_count": 4,
   "metadata": {
    "jupyter": {
     "outputs_hidden": false
    },
    "pycharm": {
     "name": "#%%\n"
    }
   },
   "outputs": [
    {
     "data": {
      "image/svg+xml": [
       "<svg xmlns=\"http://www.w3.org/2000/svg\" width=\"440\" height=\"340\"><path stroke-width=\"1\" stroke=\"black\" d=\"M 20 173 195 20\"/><path stroke-width=\"1\" stroke=\"black\" d=\"M 20 173 420 166\"/><path stroke-width=\"1\" stroke=\"black\" d=\"M 20 173 244 320\"/><path stroke-width=\"1\" stroke=\"black\" d=\"M 195 20 20 173\"/><path stroke-width=\"1\" stroke=\"black\" d=\"M 195 20 420 166\"/><path stroke-width=\"1\" stroke=\"black\" d=\"M 420 166 20 173\"/><path stroke-width=\"1\" stroke=\"black\" d=\"M 420 166 195 20\"/><path stroke-width=\"1\" stroke=\"black\" d=\"M 420 166 244 320\"/><path stroke-width=\"1\" stroke=\"black\" d=\"M 244 320 20 173\"/><path stroke-width=\"1\" stroke=\"black\" d=\"M 244 320 420 166\"/><circle cx=\"20\" cy=\"173\" r=\"7.0\" style=\"fill:gray;stroke:black;stroke-width:1.0\"/><circle cx=\"195\" cy=\"20\" r=\"7.0\" style=\"fill:gray;stroke:black;stroke-width:1.0\"/><circle cx=\"420\" cy=\"166\" r=\"7.0\" style=\"fill:gray;stroke:black;stroke-width:1.0\"/><circle cx=\"244\" cy=\"320\" r=\"7.0\" style=\"fill:gray;stroke:black;stroke-width:1.0\"/></svg>"
      ],
      "text/plain": [
       "<IPython.core.display.SVG object>"
      ]
     },
     "execution_count": 4,
     "metadata": {},
     "output_type": "execute_result"
    }
   ],
   "source": [
    "adjacency = edgelist2adjacency(edge_list, undirected=True)\n",
    "\n",
    "image = svg_graph(adjacency)\n",
    "SVG(image)"
   ]
  },
  {
   "cell_type": "markdown",
   "metadata": {},
   "source": [
    "You might also want to add weights to your edges. Just use triplets instead of pairs!"
   ]
  },
  {
   "cell_type": "code",
   "execution_count": 5,
   "metadata": {
    "jupyter": {
     "outputs_hidden": false
    },
    "pycharm": {
     "name": "#%%\n"
    }
   },
   "outputs": [
    {
     "data": {
      "image/svg+xml": [
       "<svg xmlns=\"http://www.w3.org/2000/svg\" width=\"440\" height=\"340\"><defs><marker id=\"arrow\" markerWidth=\"10\" markerHeight=\"10\" refX=\"9\" refY=\"3\" orient=\"auto\"><path d=\"M0,0 L0,6 L9,3 z\" fill=\"black\"/></marker></defs><path stroke-width=\"5.25\" stroke=\"black\" d=\"M 51 136 414 22\" marker-end=\"url(#arrow)\"/><path stroke-width=\"10.0\" stroke=\"black\" d=\"M 51 136 382 202\" marker-end=\"url(#arrow)\"/><path stroke-width=\"2.875\" stroke=\"black\" d=\"M 420 20 389 197\" marker-end=\"url(#arrow)\"/><path stroke-width=\"5.25\" stroke=\"black\" d=\"M 388 203 26 318\" marker-end=\"url(#arrow)\"/><path stroke-width=\"2.875\" stroke=\"black\" d=\"M 20 320 50 142\" marker-end=\"url(#arrow)\"/><circle cx=\"51\" cy=\"136\" r=\"7.0\" style=\"fill:gray;stroke:black;stroke-width:1.0\"/><circle cx=\"420\" cy=\"20\" r=\"7.0\" style=\"fill:gray;stroke:black;stroke-width:1.0\"/><circle cx=\"388\" cy=\"203\" r=\"7.0\" style=\"fill:gray;stroke:black;stroke-width:1.0\"/><circle cx=\"20\" cy=\"320\" r=\"7.0\" style=\"fill:gray;stroke:black;stroke-width:1.0\"/></svg>"
      ],
      "text/plain": [
       "<IPython.core.display.SVG object>"
      ]
     },
     "execution_count": 5,
     "metadata": {},
     "output_type": "execute_result"
    }
   ],
   "source": [
    "edge_list = [(0, 1, 1), (1, 2, 0.5), (2, 3, 1), (3, 0, 0.5), (0, 2, 2)]\n",
    "adjacency = edgelist2adjacency(edge_list)\n",
    "\n",
    "image = svg_digraph(adjacency)\n",
    "SVG(image)"
   ]
  },
  {
   "cell_type": "markdown",
   "metadata": {
    "pycharm": {
     "name": "#%% md\n"
    }
   },
   "source": [
    "You can instantiate a bipartite graph as well."
   ]
  },
  {
   "cell_type": "code",
   "execution_count": 6,
   "metadata": {
    "pycharm": {
     "name": "#%%\n"
    }
   },
   "outputs": [
    {
     "data": {
      "image/svg+xml": [
       "<svg xmlns=\"http://www.w3.org/2000/svg\" width=\"440\" height=\"340\"><path stroke-width=\"1\" stroke=\"black\" d=\"M 20 320 420 245\"/><path stroke-width=\"1\" stroke=\"black\" d=\"M 20 20 420 245\"/><path stroke-width=\"1\" stroke=\"black\" d=\"M 20 20 420 95\"/><path stroke-width=\"1\" stroke=\"black\" d=\"M 20 170 420 95\"/><circle cx=\"20\" cy=\"320\" r=\"7.0\" style=\"fill:gray;stroke:black;stroke-width:1.0\"/><circle cx=\"20\" cy=\"20\" r=\"7.0\" style=\"fill:gray;stroke:black;stroke-width:1.0\"/><circle cx=\"20\" cy=\"170\" r=\"7.0\" style=\"fill:gray;stroke:black;stroke-width:1.0\"/><circle cx=\"420\" cy=\"245\" r=\"7.0\" style=\"fill:gray;stroke:black;stroke-width:1.0\"/><circle cx=\"420\" cy=\"95\" r=\"7.0\" style=\"fill:gray;stroke:black;stroke-width:1.0\"/></svg>"
      ],
      "text/plain": [
       "<IPython.core.display.SVG object>"
      ]
     },
     "execution_count": 6,
     "metadata": {},
     "output_type": "execute_result"
    }
   ],
   "source": [
    "edge_list = [(0, 0), (1, 0), (1, 1), (2, 1)]\n",
    "biadjacency = edgelist2biadjacency(edge_list)\n",
    "\n",
    "image = svg_bigraph(biadjacency)\n",
    "SVG(image)"
   ]
  },
  {
   "cell_type": "markdown",
   "metadata": {},
   "source": [
    "If nodes are not indexed, convert them!"
   ]
  },
  {
   "cell_type": "code",
   "execution_count": 11,
   "metadata": {},
   "outputs": [],
   "source": [
    "edge_list = [(\"Alice\", \"Bob\"), (\"Bob\", \"Carey\"), (\"Alice\", \"David\"), (\"Carey\", \"David\"), (\"Bob\", \"David\")]\n",
    "graph = convert_edge_list(edge_list)"
   ]
  },
  {
   "cell_type": "markdown",
   "metadata": {},
   "source": [
    "You get a bunch containing the adjacency matrix and the name of each node."
   ]
  },
  {
   "cell_type": "code",
   "execution_count": 13,
   "metadata": {},
   "outputs": [
    {
     "data": {
      "text/plain": [
       "{'adjacency': <4x4 sparse matrix of type '<class 'numpy.bool_'>'\n",
       " \twith 10 stored elements in Compressed Sparse Row format>,\n",
       " 'names': array(['Alice', 'Bob', 'Carey', 'David'], dtype='<U5')}"
      ]
     },
     "execution_count": 13,
     "metadata": {},
     "output_type": "execute_result"
    }
   ],
   "source": [
    "graph"
   ]
  },
  {
   "cell_type": "code",
   "execution_count": 15,
   "metadata": {},
   "outputs": [],
   "source": [
    "adjacency = graph.adjacency\n",
    "names = graph.names"
   ]
  },
  {
   "cell_type": "code",
   "execution_count": 16,
   "metadata": {},
   "outputs": [
    {
     "data": {
      "image/svg+xml": [
       "<svg xmlns=\"http://www.w3.org/2000/svg\" width=\"470.0\" height=\"340\">\n",
       "<path stroke-width=\"1\" stroke=\"gray\" d=\"M 20 219 234 320\"/>\n",
       "<path stroke-width=\"1\" stroke=\"gray\" d=\"M 20 219 206 20\"/>\n",
       "<path stroke-width=\"1\" stroke=\"gray\" d=\"M 234 320 20 219\"/>\n",
       "<path stroke-width=\"1\" stroke=\"gray\" d=\"M 234 320 420 123\"/>\n",
       "<path stroke-width=\"1\" stroke=\"gray\" d=\"M 234 320 206 20\"/>\n",
       "<path stroke-width=\"1\" stroke=\"gray\" d=\"M 420 123 234 320\"/>\n",
       "<path stroke-width=\"1\" stroke=\"gray\" d=\"M 420 123 206 20\"/>\n",
       "<path stroke-width=\"1\" stroke=\"gray\" d=\"M 206 20 20 219\"/>\n",
       "<path stroke-width=\"1\" stroke=\"gray\" d=\"M 206 20 234 320\"/>\n",
       "<path stroke-width=\"1\" stroke=\"gray\" d=\"M 206 20 420 123\"/>\n",
       "<circle cx=\"20\" cy=\"219\" r=\"7.0\" style=\"fill:gray;stroke:black;stroke-width:1.0\"/>\n",
       "<circle cx=\"234\" cy=\"320\" r=\"7.0\" style=\"fill:gray;stroke:black;stroke-width:1.0\"/>\n",
       "<circle cx=\"420\" cy=\"123\" r=\"7.0\" style=\"fill:gray;stroke:black;stroke-width:1.0\"/>\n",
       "<circle cx=\"206\" cy=\"20\" r=\"7.0\" style=\"fill:gray;stroke:black;stroke-width:1.0\"/>\n",
       "<text x=\"30\" y=\"226\" font-size=\"12\">Alice</text><text x=\"244\" y=\"327\" font-size=\"12\">Bob</text><text x=\"430\" y=\"130\" font-size=\"12\">Carey</text><text x=\"216\" y=\"27\" font-size=\"12\">David</text></svg>"
      ],
      "text/plain": [
       "<IPython.core.display.SVG object>"
      ]
     },
     "execution_count": 16,
     "metadata": {},
     "output_type": "execute_result"
    }
   ],
   "source": [
    "image = svg_graph(adjacency, names=names)\n",
    "SVG(image)"
   ]
  },
  {
   "cell_type": "markdown",
   "metadata": {},
   "source": [
    "Again, you can make the graph directed:"
   ]
  },
  {
   "cell_type": "code",
   "execution_count": 17,
   "metadata": {},
   "outputs": [],
   "source": [
    "graph = convert_edge_list(edge_list, directed=True)"
   ]
  },
  {
   "cell_type": "code",
   "execution_count": 21,
   "metadata": {},
   "outputs": [
    {
     "data": {
      "text/plain": [
       "{'adjacency': <4x4 sparse matrix of type '<class 'numpy.bool_'>'\n",
       " \twith 5 stored elements in Compressed Sparse Row format>,\n",
       " 'names': array(['Alice', 'Bob', 'Carey', 'David'], dtype='<U5')}"
      ]
     },
     "execution_count": 21,
     "metadata": {},
     "output_type": "execute_result"
    }
   ],
   "source": [
    "graph"
   ]
  },
  {
   "cell_type": "code",
   "execution_count": 18,
   "metadata": {},
   "outputs": [],
   "source": [
    "adjacency = graph.adjacency\n",
    "names = graph.names"
   ]
  },
  {
   "cell_type": "code",
   "execution_count": 20,
   "metadata": {},
   "outputs": [
    {
     "data": {
      "image/svg+xml": [
       "<svg xmlns=\"http://www.w3.org/2000/svg\" width=\"470.0\" height=\"340\">\n",
       "<defs><marker id=\"arrow\" markerWidth=\"10\" markerHeight=\"10\" refX=\"9\" refY=\"3\" orient=\"auto\">\n",
       "<path d=\"M0,0 L0,6 L9,3 z\" fill=\"gray\"/></marker></defs>\n",
       "<path stroke-width=\"1\" stroke=\"gray\" d=\"M 20 20 294 88\" marker-end=\"url(#arrow)\"/>\n",
       "<path stroke-width=\"1\" stroke=\"gray\" d=\"M 20 20 139 247\" marker-end=\"url(#arrow)\"/>\n",
       "<path stroke-width=\"1\" stroke=\"gray\" d=\"M 300 89 417 314\" marker-end=\"url(#arrow)\"/>\n",
       "<path stroke-width=\"1\" stroke=\"gray\" d=\"M 300 89 146 248\" marker-end=\"url(#arrow)\"/>\n",
       "<path stroke-width=\"1\" stroke=\"gray\" d=\"M 420 320 148 254\" marker-end=\"url(#arrow)\"/>\n",
       "<circle cx=\"20\" cy=\"20\" r=\"7.0\" style=\"fill:gray;stroke:black;stroke-width:1.0\"/>\n",
       "<circle cx=\"300\" cy=\"89\" r=\"7.0\" style=\"fill:gray;stroke:black;stroke-width:1.0\"/>\n",
       "<circle cx=\"420\" cy=\"320\" r=\"7.0\" style=\"fill:gray;stroke:black;stroke-width:1.0\"/>\n",
       "<circle cx=\"142\" cy=\"253\" r=\"7.0\" style=\"fill:gray;stroke:black;stroke-width:1.0\"/>\n",
       "<text x=\"37\" y=\"27\" font-size=\"12\">Alice</text><text x=\"317\" y=\"96\" font-size=\"12\">Bob</text><text x=\"437\" y=\"327\" font-size=\"12\">Carey</text><text x=\"159\" y=\"260\" font-size=\"12\">David</text></svg>"
      ],
      "text/plain": [
       "<IPython.core.display.SVG object>"
      ]
     },
     "execution_count": 20,
     "metadata": {},
     "output_type": "execute_result"
    }
   ],
   "source": [
    "image = svg_digraph(adjacency, names=names)\n",
    "SVG(image)"
   ]
  },
  {
   "cell_type": "markdown",
   "metadata": {},
   "source": [
    "The graph can also be weighted:"
   ]
  },
  {
   "cell_type": "code",
   "execution_count": 33,
   "metadata": {},
   "outputs": [],
   "source": [
    "edge_list = [(\"Alice\", \"Bob\", 3), (\"Bob\", \"Carey\", 2), (\"Alice\", \"David\", 1), (\"Carey\", \"David\", 2), (\"Bob\", \"David\", 3)]\n",
    "graph = convert_edge_list(edge_list)"
   ]
  },
  {
   "cell_type": "code",
   "execution_count": 34,
   "metadata": {},
   "outputs": [],
   "source": [
    "adjacency = graph.adjacency\n",
    "names = graph.names"
   ]
  },
  {
   "cell_type": "code",
   "execution_count": 37,
   "metadata": {},
   "outputs": [
    {
     "data": {
      "image/svg+xml": [
       "<svg xmlns=\"http://www.w3.org/2000/svg\" width=\"470.0\" height=\"340\">\n",
       "<path stroke-width=\"20.0\" stroke=\"gray\" d=\"M 412 20 157 142\"/>\n",
       "<path stroke-width=\"0.5\" stroke=\"gray\" d=\"M 412 20 420 238\"/>\n",
       "<path stroke-width=\"20.0\" stroke=\"gray\" d=\"M 157 142 412 20\"/>\n",
       "<path stroke-width=\"10.25\" stroke=\"gray\" d=\"M 157 142 20 320\"/>\n",
       "<path stroke-width=\"20.0\" stroke=\"gray\" d=\"M 157 142 420 238\"/>\n",
       "<path stroke-width=\"10.25\" stroke=\"gray\" d=\"M 20 320 157 142\"/>\n",
       "<path stroke-width=\"10.25\" stroke=\"gray\" d=\"M 20 320 420 238\"/>\n",
       "<path stroke-width=\"0.5\" stroke=\"gray\" d=\"M 420 238 412 20\"/>\n",
       "<path stroke-width=\"20.0\" stroke=\"gray\" d=\"M 420 238 157 142\"/>\n",
       "<path stroke-width=\"10.25\" stroke=\"gray\" d=\"M 420 238 20 320\"/>\n",
       "<circle cx=\"412\" cy=\"20\" r=\"10.5\" style=\"fill:gray;stroke:black;stroke-width:1.0\"/>\n",
       "<circle cx=\"157\" cy=\"142\" r=\"20.0\" style=\"fill:gray;stroke:black;stroke-width:1.0\"/>\n",
       "<circle cx=\"20\" cy=\"320\" r=\"10.5\" style=\"fill:gray;stroke:black;stroke-width:1.0\"/>\n",
       "<circle cx=\"420\" cy=\"238\" r=\"15.25\" style=\"fill:gray;stroke:black;stroke-width:1.0\"/>\n",
       "<text x=\"426\" y=\"30\" font-size=\"12\">Alice</text><text x=\"180\" y=\"162\" font-size=\"12\">Bob</text><text x=\"33\" y=\"330\" font-size=\"12\">Carey</text><text x=\"438\" y=\"253\" font-size=\"12\">David</text></svg>"
      ],
      "text/plain": [
       "<IPython.core.display.SVG object>"
      ]
     },
     "execution_count": 37,
     "metadata": {},
     "output_type": "execute_result"
    }
   ],
   "source": [
    "image = svg_graph(adjacency, names=names, display_edge_weight=True, display_node_weight=True)\n",
    "SVG(image)"
   ]
  },
  {
   "cell_type": "markdown",
   "metadata": {},
   "source": [
    "For a bipartite graph:"
   ]
  },
  {
   "cell_type": "code",
   "execution_count": 63,
   "metadata": {},
   "outputs": [],
   "source": [
    "edge_list = [(\"Alice\", \"Football\"), (\"Bob\", \"Tennis\"), (\"David\", \"Football\"), (\"Carey\", \"Tennis\"), (\"Carey\", \"Football\")]\n",
    "graph = convert_edge_list(edge_list, bipartite=True)"
   ]
  },
  {
   "cell_type": "code",
   "execution_count": 64,
   "metadata": {},
   "outputs": [],
   "source": [
    "biadjacency = graph.biadjacency\n",
    "names = graph.names\n",
    "names_col = graph.names_col"
   ]
  },
  {
   "cell_type": "code",
   "execution_count": 65,
   "metadata": {},
   "outputs": [
    {
     "data": {
      "image/svg+xml": [
       "<svg xmlns=\"http://www.w3.org/2000/svg\" width=\"518.0\" height=\"340\">\n",
       "<path stroke-width=\"1\" stroke=\"black\" d=\"M 50 320 450 220\"/>\n",
       "<path stroke-width=\"1\" stroke=\"black\" d=\"M 50 120 450 120\"/>\n",
       "<path stroke-width=\"1\" stroke=\"black\" d=\"M 50 20 450 220\"/>\n",
       "<path stroke-width=\"1\" stroke=\"black\" d=\"M 50 20 450 120\"/>\n",
       "<path stroke-width=\"1\" stroke=\"black\" d=\"M 50 220 450 220\"/>\n",
       "<circle cx=\"50\" cy=\"320\" r=\"7.0\" style=\"fill:gray;stroke:black;stroke-width:1.0\"/>\n",
       "<circle cx=\"50\" cy=\"120\" r=\"7.0\" style=\"fill:gray;stroke:black;stroke-width:1.0\"/>\n",
       "<circle cx=\"50\" cy=\"20\" r=\"7.0\" style=\"fill:gray;stroke:black;stroke-width:1.0\"/>\n",
       "<circle cx=\"50\" cy=\"220\" r=\"7.0\" style=\"fill:gray;stroke:black;stroke-width:1.0\"/>\n",
       "<circle cx=\"450\" cy=\"220\" r=\"7.0\" style=\"fill:gray;stroke:black;stroke-width:1.0\"/>\n",
       "<circle cx=\"450\" cy=\"120\" r=\"7.0\" style=\"fill:gray;stroke:black;stroke-width:1.0\"/>\n",
       "<text text-anchor=\"end\" x=\"40\" y=\"320\" font-size=\"12\">Alice</text><text text-anchor=\"end\" x=\"40\" y=\"120\" font-size=\"12\">Bob</text><text text-anchor=\"end\" x=\"40\" y=\"20\" font-size=\"12\">Carey</text><text text-anchor=\"end\" x=\"40\" y=\"220\" font-size=\"12\">David</text><text x=\"460\" y=\"220\" font-size=\"12\">Football</text><text x=\"460\" y=\"120\" font-size=\"12\">Tennis</text></svg>"
      ],
      "text/plain": [
       "<IPython.core.display.SVG object>"
      ]
     },
     "execution_count": 65,
     "metadata": {},
     "output_type": "execute_result"
    }
   ],
   "source": [
    "image = svg_bigraph(biadjacency, names_row=names, names_col=names_col)\n",
    "SVG(image)"
   ]
  },
  {
   "cell_type": "markdown",
   "metadata": {},
   "source": [
    "## From a dataframe"
   ]
  },
  {
   "cell_type": "code",
   "execution_count": 24,
   "metadata": {},
   "outputs": [],
   "source": [
    "df = pd.read_csv('data/miserables.tsv', sep='\\t', names=['character_1', 'character_2'])"
   ]
  },
  {
   "cell_type": "code",
   "execution_count": 25,
   "metadata": {},
   "outputs": [
    {
     "data": {
      "text/html": [
       "<div>\n",
       "<style scoped>\n",
       "    .dataframe tbody tr th:only-of-type {\n",
       "        vertical-align: middle;\n",
       "    }\n",
       "\n",
       "    .dataframe tbody tr th {\n",
       "        vertical-align: top;\n",
       "    }\n",
       "\n",
       "    .dataframe thead th {\n",
       "        text-align: right;\n",
       "    }\n",
       "</style>\n",
       "<table border=\"1\" class=\"dataframe\">\n",
       "  <thead>\n",
       "    <tr style=\"text-align: right;\">\n",
       "      <th></th>\n",
       "      <th>character_1</th>\n",
       "      <th>character_2</th>\n",
       "    </tr>\n",
       "  </thead>\n",
       "  <tbody>\n",
       "    <tr>\n",
       "      <th>0</th>\n",
       "      <td>Myriel</td>\n",
       "      <td>Napoleon</td>\n",
       "    </tr>\n",
       "    <tr>\n",
       "      <th>1</th>\n",
       "      <td>Myriel</td>\n",
       "      <td>Mlle Baptistine</td>\n",
       "    </tr>\n",
       "    <tr>\n",
       "      <th>2</th>\n",
       "      <td>Myriel</td>\n",
       "      <td>Mme Magloire</td>\n",
       "    </tr>\n",
       "    <tr>\n",
       "      <th>3</th>\n",
       "      <td>Myriel</td>\n",
       "      <td>Countess de Lo</td>\n",
       "    </tr>\n",
       "    <tr>\n",
       "      <th>4</th>\n",
       "      <td>Myriel</td>\n",
       "      <td>Geborand</td>\n",
       "    </tr>\n",
       "  </tbody>\n",
       "</table>\n",
       "</div>"
      ],
      "text/plain": [
       "  character_1      character_2\n",
       "0      Myriel         Napoleon\n",
       "1      Myriel  Mlle Baptistine\n",
       "2      Myriel     Mme Magloire\n",
       "3      Myriel   Countess de Lo\n",
       "4      Myriel         Geborand"
      ]
     },
     "execution_count": 25,
     "metadata": {},
     "output_type": "execute_result"
    }
   ],
   "source": [
    "df.head()"
   ]
  },
  {
   "cell_type": "code",
   "execution_count": 51,
   "metadata": {},
   "outputs": [],
   "source": [
    "edge_list = list(df.itertuples(index=False))"
   ]
  },
  {
   "cell_type": "code",
   "execution_count": 52,
   "metadata": {},
   "outputs": [],
   "source": [
    "graph = convert_edge_list(edge_list)"
   ]
  },
  {
   "cell_type": "code",
   "execution_count": 53,
   "metadata": {},
   "outputs": [
    {
     "data": {
      "text/plain": [
       "{'adjacency': <77x77 sparse matrix of type '<class 'numpy.bool_'>'\n",
       " \twith 254 stored elements in Compressed Sparse Row format>,\n",
       " 'names': array(['Anzelma', 'Babet', 'Bahorel', 'Bamatabois', 'Baroness',\n",
       "        'Blacheville', 'Bossuet', 'Boulatruelle', 'Brevet', 'Brujon',\n",
       "        'Champmathieu', 'Champtercier', 'Chenildieu', 'Child1', 'Child2',\n",
       "        'Claquesous', 'Cochepaille', 'Combeferre', 'Cosette', 'Count',\n",
       "        'Countess de Lo', 'Courfeyrac', 'Cravatte', 'Dahlia', 'Enjolras',\n",
       "        'Eponine', 'Fameuil', 'Fantine', 'Fauchelevent', 'Favourite',\n",
       "        'Feuilly', 'Gavroche', 'Geborand', 'Gervais', 'Gillenormand',\n",
       "        'Grantaire', 'Gribier', 'Gueulemer', 'Isabeau', 'Javert', 'Joly',\n",
       "        'Jondrette', 'Judge', 'Labarre', 'Listolier', 'Lt Gillenormand',\n",
       "        'Mabeuf', 'Magnon', 'Marguerite', 'Marius', 'Mlle Baptistine',\n",
       "        'Mlle Gillenormand', 'Mlle Vaubois', 'Mme Burgon', 'Mme Der',\n",
       "        'Mme Hucheloup', 'Mme Magloire', 'Mme Pontmercy', 'Mme Thenardier',\n",
       "        'Montparnasse', 'MotherInnocent', 'MotherPlutarch', 'Myriel',\n",
       "        'Napoleon', 'Old man', 'Perpetue', 'Pontmercy', 'Prouvaire',\n",
       "        'Scaufflaire', 'Simplice', 'Thenardier', 'Tholomyes', 'Toussaint',\n",
       "        'Valjean', 'Woman1', 'Woman2', 'Zephine'], dtype='<U17')}"
      ]
     },
     "execution_count": 53,
     "metadata": {},
     "output_type": "execute_result"
    }
   ],
   "source": [
    "graph"
   ]
  },
  {
   "cell_type": "code",
   "execution_count": 71,
   "metadata": {},
   "outputs": [],
   "source": [
    "df = pd.read_csv('data/movie_actor.tsv', sep='\\t', names=['movie', 'actor'])"
   ]
  },
  {
   "cell_type": "code",
   "execution_count": 72,
   "metadata": {},
   "outputs": [
    {
     "data": {
      "text/html": [
       "<div>\n",
       "<style scoped>\n",
       "    .dataframe tbody tr th:only-of-type {\n",
       "        vertical-align: middle;\n",
       "    }\n",
       "\n",
       "    .dataframe tbody tr th {\n",
       "        vertical-align: top;\n",
       "    }\n",
       "\n",
       "    .dataframe thead th {\n",
       "        text-align: right;\n",
       "    }\n",
       "</style>\n",
       "<table border=\"1\" class=\"dataframe\">\n",
       "  <thead>\n",
       "    <tr style=\"text-align: right;\">\n",
       "      <th></th>\n",
       "      <th>movie</th>\n",
       "      <th>actor</th>\n",
       "    </tr>\n",
       "  </thead>\n",
       "  <tbody>\n",
       "    <tr>\n",
       "      <th>0</th>\n",
       "      <td>Inception</td>\n",
       "      <td>Leonardo DiCaprio</td>\n",
       "    </tr>\n",
       "    <tr>\n",
       "      <th>1</th>\n",
       "      <td>Inception</td>\n",
       "      <td>Marion Cotillard</td>\n",
       "    </tr>\n",
       "    <tr>\n",
       "      <th>2</th>\n",
       "      <td>Inception</td>\n",
       "      <td>Joseph Gordon Lewitt</td>\n",
       "    </tr>\n",
       "    <tr>\n",
       "      <th>3</th>\n",
       "      <td>The Dark Knight Rises</td>\n",
       "      <td>Marion Cotillard</td>\n",
       "    </tr>\n",
       "    <tr>\n",
       "      <th>4</th>\n",
       "      <td>The Dark Knight Rises</td>\n",
       "      <td>Joseph Gordon Lewitt</td>\n",
       "    </tr>\n",
       "  </tbody>\n",
       "</table>\n",
       "</div>"
      ],
      "text/plain": [
       "                   movie                 actor\n",
       "0              Inception     Leonardo DiCaprio\n",
       "1              Inception      Marion Cotillard\n",
       "2              Inception  Joseph Gordon Lewitt\n",
       "3  The Dark Knight Rises      Marion Cotillard\n",
       "4  The Dark Knight Rises  Joseph Gordon Lewitt"
      ]
     },
     "execution_count": 72,
     "metadata": {},
     "output_type": "execute_result"
    }
   ],
   "source": [
    "df.head()"
   ]
  },
  {
   "cell_type": "code",
   "execution_count": 73,
   "metadata": {},
   "outputs": [],
   "source": [
    "edge_list = list(df.itertuples(index=False))"
   ]
  },
  {
   "cell_type": "code",
   "execution_count": 74,
   "metadata": {},
   "outputs": [],
   "source": [
    "graph = convert_edge_list(edge_list, bipartite=True)"
   ]
  },
  {
   "cell_type": "code",
   "execution_count": 75,
   "metadata": {},
   "outputs": [
    {
     "data": {
      "text/plain": [
       "{'biadjacency': <15x16 sparse matrix of type '<class 'numpy.bool_'>'\n",
       " \twith 41 stored elements in Compressed Sparse Row format>,\n",
       " 'names': array(['007 Spectre', 'Aviator', 'Crazy Stupid Love', 'Drive',\n",
       "        'Fantastic Beasts 2', 'Inception', 'Inglourious Basterds',\n",
       "        'La La Land', 'Midnight In Paris', 'Murder on the Orient Express',\n",
       "        'The Big Short', 'The Dark Knight Rises',\n",
       "        'The Grand Budapest Hotel', 'The Great Gatsby', 'Vice'],\n",
       "       dtype='<U28'),\n",
       " 'names_row': array(['007 Spectre', 'Aviator', 'Crazy Stupid Love', 'Drive',\n",
       "        'Fantastic Beasts 2', 'Inception', 'Inglourious Basterds',\n",
       "        'La La Land', 'Midnight In Paris', 'Murder on the Orient Express',\n",
       "        'The Big Short', 'The Dark Knight Rises',\n",
       "        'The Grand Budapest Hotel', 'The Great Gatsby', 'Vice'],\n",
       "       dtype='<U28'),\n",
       " 'names_col': array(['Brad Pitt', 'Carey Mulligan', 'Christian Bale',\n",
       "        'Christophe Waltz', 'Emma Stone', 'Johnny Depp',\n",
       "        'Joseph Gordon Lewitt', 'Jude Law', 'Lea Seydoux',\n",
       "        'Leonardo DiCaprio', 'Marion Cotillard', 'Owen Wilson',\n",
       "        'Ralph Fiennes', 'Ryan Gosling', 'Steve Carell', 'Willem Dafoe'],\n",
       "       dtype='<U28')}"
      ]
     },
     "execution_count": 75,
     "metadata": {},
     "output_type": "execute_result"
    }
   ],
   "source": [
    "graph"
   ]
  },
  {
   "cell_type": "markdown",
   "metadata": {},
   "source": [
    "## From a TSV file"
   ]
  },
  {
   "cell_type": "markdown",
   "metadata": {},
   "source": [
    "You can directly load a graph from a TSV file:"
   ]
  },
  {
   "cell_type": "code",
   "execution_count": 78,
   "metadata": {},
   "outputs": [],
   "source": [
    "graph = load_edge_list('data/miserables.tsv')"
   ]
  },
  {
   "cell_type": "code",
   "execution_count": 79,
   "metadata": {},
   "outputs": [
    {
     "data": {
      "text/plain": [
       "{'adjacency': <77x77 sparse matrix of type '<class 'numpy.bool_'>'\n",
       " \twith 508 stored elements in Compressed Sparse Row format>,\n",
       " 'names': array(['Anzelma', 'Babet', 'Bahorel', 'Bamatabois', 'Baroness',\n",
       "        'Blacheville', 'Bossuet', 'Boulatruelle', 'Brevet', 'Brujon',\n",
       "        'Champmathieu', 'Champtercier', 'Chenildieu', 'Child1', 'Child2',\n",
       "        'Claquesous', 'Cochepaille', 'Combeferre', 'Cosette', 'Count',\n",
       "        'Countess de Lo', 'Courfeyrac', 'Cravatte', 'Dahlia', 'Enjolras',\n",
       "        'Eponine', 'Fameuil', 'Fantine', 'Fauchelevent', 'Favourite',\n",
       "        'Feuilly', 'Gavroche', 'Geborand', 'Gervais', 'Gillenormand',\n",
       "        'Grantaire', 'Gribier', 'Gueulemer', 'Isabeau', 'Javert', 'Joly',\n",
       "        'Jondrette', 'Judge', 'Labarre', 'Listolier', 'Lt Gillenormand',\n",
       "        'Mabeuf', 'Magnon', 'Marguerite', 'Marius', 'Mlle Baptistine',\n",
       "        'Mlle Gillenormand', 'Mlle Vaubois', 'Mme Burgon', 'Mme Der',\n",
       "        'Mme Hucheloup', 'Mme Magloire', 'Mme Pontmercy', 'Mme Thenardier',\n",
       "        'Montparnasse', 'MotherInnocent', 'MotherPlutarch', 'Myriel',\n",
       "        'Napoleon', 'Old man', 'Perpetue', 'Pontmercy', 'Prouvaire',\n",
       "        'Scaufflaire', 'Simplice', 'Thenardier', 'Tholomyes', 'Toussaint',\n",
       "        'Valjean', 'Woman1', 'Woman2', 'Zephine'], dtype='<U17')}"
      ]
     },
     "execution_count": 79,
     "metadata": {},
     "output_type": "execute_result"
    }
   ],
   "source": [
    "graph"
   ]
  },
  {
   "cell_type": "code",
   "execution_count": 82,
   "metadata": {},
   "outputs": [],
   "source": [
    "graph = load_edge_list('data/movie_actor.tsv', bipartite=True)"
   ]
  },
  {
   "cell_type": "code",
   "execution_count": 83,
   "metadata": {},
   "outputs": [
    {
     "data": {
      "text/plain": [
       "{'biadjacency': <15x16 sparse matrix of type '<class 'numpy.bool_'>'\n",
       " \twith 41 stored elements in Compressed Sparse Row format>,\n",
       " 'names': array(['007 Spectre', 'Aviator', 'Crazy Stupid Love', 'Drive',\n",
       "        'Fantastic Beasts 2', 'Inception', 'Inglourious Basterds',\n",
       "        'La La Land', 'Midnight In Paris', 'Murder on the Orient Express',\n",
       "        'The Big Short', 'The Dark Knight Rises',\n",
       "        'The Grand Budapest Hotel', 'The Great Gatsby', 'Vice'],\n",
       "       dtype='<U28'),\n",
       " 'names_row': array(['007 Spectre', 'Aviator', 'Crazy Stupid Love', 'Drive',\n",
       "        'Fantastic Beasts 2', 'Inception', 'Inglourious Basterds',\n",
       "        'La La Land', 'Midnight In Paris', 'Murder on the Orient Express',\n",
       "        'The Big Short', 'The Dark Knight Rises',\n",
       "        'The Grand Budapest Hotel', 'The Great Gatsby', 'Vice'],\n",
       "       dtype='<U28'),\n",
       " 'names_col': array(['Brad Pitt', 'Carey Mulligan', 'Christian Bale',\n",
       "        'Christophe Waltz', 'Emma Stone', 'Johnny Depp',\n",
       "        'Joseph Gordon Lewitt', 'Jude Law', 'Lea Seydoux',\n",
       "        'Leonardo DiCaprio', 'Marion Cotillard', 'Owen Wilson',\n",
       "        'Ralph Fiennes', 'Ryan Gosling', 'Steve Carell', 'Willem Dafoe'],\n",
       "       dtype='<U20')}"
      ]
     },
     "execution_count": 83,
     "metadata": {},
     "output_type": "execute_result"
    }
   ],
   "source": [
    "graph"
   ]
  },
  {
   "cell_type": "markdown",
   "metadata": {
    "pycharm": {
     "name": "#%% md\n"
    }
   },
   "source": [
    "## From NetworkX\n",
    "\n",
    "NetworkX has [import](https://networkx.github.io/documentation/stable/reference/generated/networkx.convert_matrix.from_scipy_sparse_matrix.html#networkx.convert_matrix.from_scipy_sparse_matrix) and [export](https://networkx.github.io/documentation/stable/reference/generated/networkx.convert_matrix.to_scipy_sparse_matrix.html#networkx.convert_matrix.to_scipy_sparse_matrix) functions from and towards the CSR format."
   ]
  },
  {
   "cell_type": "markdown",
   "metadata": {},
   "source": [
    "## Other options\n",
    "\n",
    "* You have a GraphML file\n",
    "* You want to test our toy graphs\n",
    "* You want to generate a graph from a model\n",
    "* You want to load a graph from one of our referenced repositories (see [NetSet](http://netset.telecom-paris.fr/) and [KONECT](http://konect.cc))\n",
    "\n",
    "Take a look at the tutorials of the **data** section!"
   ]
  }
 ],
 "metadata": {
  "kernelspec": {
   "display_name": "Python 3",
   "language": "python",
   "name": "python3"
  },
  "language_info": {
   "codemirror_mode": {
    "name": "ipython",
    "version": 3
   },
   "file_extension": ".py",
   "mimetype": "text/x-python",
   "name": "python",
   "nbconvert_exporter": "python",
   "pygments_lexer": "ipython3",
   "version": "3.8.3"
  }
 },
 "nbformat": 4,
 "nbformat_minor": 4
}
